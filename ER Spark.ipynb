{
 "cells": [
  {
   "cell_type": "code",
   "execution_count": 2,
   "metadata": {
    "collapsed": false
   },
   "outputs": [],
   "source": [
    "import re\n",
    "DATAFILE_PATTERN = '^(.+),\"(.+)\",(.*),(.*),(.*)'\n",
    "from pyspark import SparkContext\n",
    "sc =SparkContext()\n",
    "\n",
    "def removeQuotes(s):\n",
    "    return ''.join(i for i in s if i!='\"')\n",
    "\n",
    "\n",
    "def parseDatafileLine(datafileLine):\n",
    "    match = re.search(DATAFILE_PATTERN, datafileLine)\n",
    "    if match is None:\n",
    "        print 'Invalid datafile line: %s' % datafileLine\n",
    "        return (datafileLine, -1)\n",
    "    elif match.group(1) == '\"id\"':\n",
    "        print 'Header datafile line: %s' % datafileLine\n",
    "        return (datafileLine, 0)\n",
    "    else:\n",
    "        product = '%s %s %s' % (match.group(2), match.group(3), match.group(4))\n",
    "        return ((removeQuotes(match.group(1)), product), 1)"
   ]
  },
  {
   "cell_type": "code",
   "execution_count": 3,
   "metadata": {
    "collapsed": false
   },
   "outputs": [
    {
     "name": "stdout",
     "output_type": "stream",
     "text": [
      "google.csv - Read 3227 lines, successfully parsed 3226 lines, failed to parse 0 lines\n",
      "google.csv - Read 3227 lines, successfully parsed 3226 lines, failed to parse 0 lines\n",
      "amazon.csv - Read 1364 lines, successfully parsed 1363 lines, failed to parse 0 lines\n",
      "amazon.csv - Read 1364 lines, successfully parsed 1363 lines, failed to parse 0 lines\n"
     ]
    }
   ],
   "source": [
    "import sys\n",
    "import os\n",
    "from test_helper import Test\n",
    "\n",
    "baseDir = os.path.join('data')\n",
    "inputPath = os.path.join('products')\n",
    "\n",
    "GOOGLE_PATH = 'google.csv'\n",
    "GOOGLE_SMALL_PATH = 'google.csv'\n",
    "AMAZON_PATH = 'amazon.csv'\n",
    "AMAZON_SMALL_PATH = 'amazon.csv'\n",
    "GOLD_STANDARD_PATH = 'perfect_mapping.csv'\n",
    "STOPWORDS_PATH = 'stopwords.csv'\n",
    "\n",
    "def parseData(filename):\n",
    "    return (sc.textFile(filename, minPartitions=4, use_unicode=False).map(parseDatafileLine))\n",
    "\n",
    "def loadData(path):\n",
    "\n",
    "    filename = os.path.join(baseDir, inputPath, path)\n",
    "    raw = parseData(filename).cache()\n",
    "    failed = (raw.filter(lambda s: s[1] == -1).map(lambda s: s[0]))\n",
    "    for line in failed.take(10):\n",
    "        print '%s - Invalid datafile line: %s' % (path, line)\n",
    "        \n",
    "    valid = (raw.filter(lambda s: s[1] == 1).map(lambda s: s[0]).cache())\n",
    "    print '%s - Read %d lines, successfully parsed %d lines, failed to parse %d lines' % \\\n",
    "    (path, raw.count(), valid.count(), failed.count())\n",
    "    assert failed.count() == 0\n",
    "    assert raw.count() == (valid.count() + 1)\n",
    "    return valid\n",
    "\n",
    "googleSmall = loadData(GOOGLE_SMALL_PATH)\n",
    "google = loadData(GOOGLE_PATH)\n",
    "amazonSmall = loadData(AMAZON_SMALL_PATH)\n",
    "amazon = loadData(AMAZON_PATH)"
   ]
  },
  {
   "cell_type": "code",
   "execution_count": 4,
   "metadata": {
    "collapsed": false
   },
   "outputs": [
    {
     "name": "stdout",
     "output_type": "stream",
     "text": [
      "google: http://www.google.com/base/feeds/snippets/11125907881740407428: learning quickbooks 2007 \"learning quickbooks 2007\" \"intuit\"\n",
      "\n",
      "google: http://www.google.com/base/feeds/snippets/11538923464407758599: superstart! fun with reading & writing! \"fun with reading & writing! is designed to help kids learn to read and write better through exercises puzzle-solving creative writing decoding and more!\" \n",
      "\n",
      "google: http://www.google.com/base/feeds/snippets/11343515411965421256: qb pos 6.0 basic software \"qb pos 6.0 basic retail mngmt software. for retailers who need basic inventory sales and customer tracking.\" \"intuit\"\n",
      "\n",
      "amazon: b000jz4hqo: clickart 950 000 - premier image pack (dvd-rom)  \"broderbund\"\n",
      "\n",
      "amazon: b0006zf55o: ca international - arcserve lap/desktop oem 30pk \"oem arcserve backup v11.1 win 30u for laptops and desktops\" \"computer associates\"\n",
      "\n",
      "amazon: b00004tkvy: noah's ark activity center (jewel case ages 3-8)  \"victory multimedia\"\n",
      "\n"
     ]
    }
   ],
   "source": [
    "for line in googleSmall.take(3):\n",
    "    print 'google: %s: %s\\n' % (line[0], line[1])\n",
    "\n",
    "for line in amazonSmall.take(3):\n",
    "    print 'amazon: %s: %s\\n' % (line[0], line[1])"
   ]
  },
  {
   "cell_type": "code",
   "execution_count": 5,
   "metadata": {
    "collapsed": false
   },
   "outputs": [
    {
     "name": "stdout",
     "output_type": "stream",
     "text": [
      "['a', 'quick', 'brown', 'fox', 'jumps', 'over', 'the', 'lazy', 'dog']\n"
     ]
    }
   ],
   "source": [
    "quickbrownfox = 'A quick brown fox jumps over the lazy dog.'\n",
    "split_regex = r'\\W+'\n",
    "\n",
    "def simpleTokenize(string):\n",
    "    \"\"\" A simple implementation of input string tokenization\n",
    "    Args:\n",
    "        string (str): input string\n",
    "    Returns:\n",
    "        list: a list of tokens\n",
    "    \"\"\"\n",
    "    return filter(lambda x: len(x) > 0, re.split(split_regex, string.lower()))\n",
    "\n",
    "print simpleTokenize(quickbrownfox) # Should give ['a', 'quick', 'brown', ... ]"
   ]
  },
  {
   "cell_type": "code",
   "execution_count": 6,
   "metadata": {
    "collapsed": false
   },
   "outputs": [
    {
     "name": "stdout",
     "output_type": "stream",
     "text": [
      "1 test passed.\n",
      "1 test passed.\n",
      "1 test passed.\n",
      "1 test passed.\n"
     ]
    }
   ],
   "source": [
    "Test.assertEquals(simpleTokenize(quickbrownfox),\n",
    "                  ['a','quick','brown','fox','jumps','over','the','lazy','dog'],\n",
    "                  'simpleTokenize should handle sample text')\n",
    "Test.assertEquals(simpleTokenize(' '), [], 'simpleTokenize should handle empty string')\n",
    "Test.assertEquals(simpleTokenize('!!!!123A/456_B/789C.123A'), ['123a','456_b','789c','123a'],\n",
    "                  'simpleTokenize should handle punctuations and lowercase result')\n",
    "Test.assertEquals(simpleTokenize('fox fox'), ['fox', 'fox'],\n",
    "                  'simpleTokenize should not remove duplicates')"
   ]
  },
  {
   "cell_type": "code",
   "execution_count": 16,
   "metadata": {
    "collapsed": false
   },
   "outputs": [
    {
     "name": "stdout",
     "output_type": "stream",
     "text": [
      "['quick', 'brown', 'fox', 'jumps', 'lazy', 'dog']\n"
     ]
    }
   ],
   "source": [
    "stopfile = os.path.join(baseDir, inputPath, STOPWORDS_PATH)\n",
    "stopwords = set(sc.textFile(stopfile).collect())\n",
    "#print 'These are the stopwords: %s' % stopwords\n",
    "\n",
    "def tokenize(string):\n",
    "    \"\"\" An implementation of input string tokenization that excludes stopwords\n",
    "    Args:\n",
    "        string (str): input string\n",
    "    Returns:\n",
    "        list: a list of tokens without stopwords\n",
    "    \"\"\"\n",
    "    return filter(lambda x: x.lower() not in stopwords, simpleTokenize(string))\n",
    "\n",
    "print tokenize(quickbrownfox) # Should give ['quick', 'brown', ... ]\n"
   ]
  },
  {
   "cell_type": "code",
   "execution_count": 17,
   "metadata": {
    "collapsed": false
   },
   "outputs": [
    {
     "name": "stdout",
     "output_type": "stream",
     "text": [
      "1 test passed.\n",
      "1 test passed.\n",
      "1 test passed.\n"
     ]
    }
   ],
   "source": [
    "Test.assertEquals(tokenize(\"Why a the?\"), [], 'tokenize should remove all stopwords')\n",
    "Test.assertEquals(tokenize(\"Being at the_?\"), ['the_'], 'tokenize should handle non-stopwords')\n",
    "Test.assertEquals(tokenize(quickbrownfox), ['quick','brown','fox','jumps','lazy','dog'],\n",
    "                    'tokenize should handle sample text')\n"
   ]
  },
  {
   "cell_type": "code",
   "execution_count": 18,
   "metadata": {
    "collapsed": false
   },
   "outputs": [
    {
     "name": "stdout",
     "output_type": "stream",
     "text": [
      "There are 264149 tokens in the combined datasets\n"
     ]
    }
   ],
   "source": [
    "amazonRecToToken = amazonSmall.map(lambda s: (s[0], tokenize(s[1])))\n",
    "googleRecToToken = googleSmall.map(lambda s: (s[0], tokenize(s[1])))\n",
    "\n",
    "def countTokens(vendorRDD):\n",
    "    \"\"\" Count and return the number of tokens\n",
    "    Args:\n",
    "        vendorRDD (RDD of (recordId, tokenizedValue)): Pair tuple of record ID to tokenized output\n",
    "    Returns:\n",
    "        count: count of all tokens\n",
    "    \"\"\"\n",
    "    tokenCount = vendorRDD.map(lambda s: len(s[1])).reduce(lambda a, b : a + b)\n",
    "    return tokenCount\n",
    "\n",
    "totalTokens = countTokens(amazonRecToToken) + countTokens(googleRecToToken)\n",
    "print 'There are %s tokens in the combined datasets' % totalTokens"
   ]
  },
  {
   "cell_type": "code",
   "execution_count": 19,
   "metadata": {
    "collapsed": false
   },
   "outputs": [
    {
     "name": "stdout",
     "output_type": "stream",
     "text": [
      "The Amazon record with ID \"b000ndibqy\" has the most tokens (1915)\n"
     ]
    }
   ],
   "source": [
    "def findBiggestRecord(vendorRDD):\n",
    "    \"\"\" Find and return the record with the largest number of tokens\n",
    "    Args:\n",
    "        vendorRDD (RDD of (recordId, tokens)): input Pair Tuple of record ID and tokens\n",
    "    Returns:\n",
    "        list: a list of 1 Pair Tuple of record ID and tokens\n",
    "    \"\"\"\n",
    "    return vendorRDD.takeOrdered(1, lambda s: -1 * len(s[1]))\n",
    "\n",
    "biggestRecordAmazon = findBiggestRecord(amazonRecToToken)\n",
    "print 'The Amazon record with ID \"%s\" has the most tokens (%s)' % (biggestRecordAmazon[0][0],\n",
    "                                                                   len(biggestRecordAmazon[0][1]))"
   ]
  },
  {
   "cell_type": "code",
   "execution_count": 20,
   "metadata": {
    "collapsed": false
   },
   "outputs": [
    {
     "name": "stdout",
     "output_type": "stream",
     "text": [
      "{'brown': 0.16666666666666666, 'lazy': 0.16666666666666666, 'jumps': 0.16666666666666666, 'fox': 0.16666666666666666, 'dog': 0.16666666666666666, 'quick': 0.16666666666666666}\n"
     ]
    }
   ],
   "source": [
    "def tf(tokens):\n",
    "    \"\"\" Compute TF\n",
    "    Args:\n",
    "        tokens (list of str): input list of tokens from tokenize\n",
    "    Returns:\n",
    "        dictionary: a dictionary of tokens to its TF values\n",
    "    \"\"\"\n",
    "    counts = {}\n",
    "    for key in tokens:\n",
    "      if key in counts:\n",
    "        counts[key] += 1\n",
    "      else:\n",
    "        counts[key] = 1\n",
    "    n_tokens = len(tokens)\n",
    "    \n",
    "    freq = {}\n",
    "    for k,v in counts.items():\n",
    "      freq[k] = 1.0*v/ n_tokens \n",
    "    return freq\n",
    "    #return { t: counts[t] / n_tokens for t in counts }\n",
    "\n",
    "print tf(tokenize(quickbrownfox)) # Should give { 'quick': 0.1666 ... }"
   ]
  },
  {
   "cell_type": "code",
   "execution_count": 23,
   "metadata": {
    "collapsed": false
   },
   "outputs": [
    {
     "name": "stdout",
     "output_type": "stream",
     "text": [
      "1 test passed.\n",
      "1 test passed.\n"
     ]
    }
   ],
   "source": [
    "tf_test = tf(tokenize(quickbrownfox))\n",
    "Test.assertEquals(tf_test, {'brown': 0.16666666666666666, 'lazy': 0.16666666666666666,\n",
    "                             'jumps': 0.16666666666666666, 'fox': 0.16666666666666666,\n",
    "                             'dog': 0.16666666666666666, 'quick': 0.16666666666666666},\n",
    "                    'incorrect result for tf on sample text')\n",
    "tf_test2 = tf(tokenize('one_ one_ two!'))\n",
    "Test.assertEquals(tf_test2, {'one_': 0.6666666666666666, 'two': 0.3333333333333333},\n",
    "                    'incorrect result for tf test')"
   ]
  },
  {
   "cell_type": "code",
   "execution_count": 28,
   "metadata": {
    "collapsed": false
   },
   "outputs": [
    {
     "name": "stdout",
     "output_type": "stream",
     "text": [
      "1 test passed.\n"
     ]
    }
   ],
   "source": [
    "corpusRDD = amazonRecToToken.union(googleRecToToken)\n",
    "Test.assertEquals(corpusRDD.count(), 4589, 'incorrect corpusRDD.count()')"
   ]
  },
  {
   "cell_type": "code",
   "execution_count": 29,
   "metadata": {
    "collapsed": false
   },
   "outputs": [
    {
     "name": "stdout",
     "output_type": "stream",
     "text": [
      "There are 16790 unique tokens in the small datasets.\n"
     ]
    }
   ],
   "source": [
    "def idfs(corpus):\n",
    "    \"\"\" Compute IDF\n",
    "    Args:\n",
    "        corpus (RDD): input corpus\n",
    "    Returns:\n",
    "        RDD: a RDD of (token, IDF value)\n",
    "    \"\"\"\n",
    "    N = float(corpus.count())\n",
    "    uniqueTokens = corpus.flatMap(lambda s: list(set(s[1])))\n",
    "    tokenCountPairTuple = uniqueTokens.map(lambda token: (token, 1))\n",
    "    tokenSumPairTuple = tokenCountPairTuple.reduceByKey(lambda a, b : a + b)\n",
    "    return (tokenSumPairTuple.map(lambda s: (s[0], float(N/s[1]))))\n",
    "\n",
    "\n",
    "idfsSmall = idfs(amazonRecToToken.union(googleRecToToken))\n",
    "uniqueTokenCount = idfsSmall.count()\n",
    "\n",
    "print 'There are %s unique tokens in the small datasets.' % uniqueTokenCount"
   ]
  },
  {
   "cell_type": "code",
   "execution_count": 34,
   "metadata": {
    "collapsed": false
   },
   "outputs": [
    {
     "name": "stdout",
     "output_type": "stream",
     "text": [
      "1 test passed.\n",
      "1 test passed.\n",
      "1 test passed.\n"
     ]
    }
   ],
   "source": [
    "Test.assertEquals(uniqueTokenCount, 16790, 'incorrect uniqueTokenCount')\n",
    "tokenSmallestIdf = idfsSmall.takeOrdered(1, lambda s: s[1])[0]\n",
    "Test.assertEquals(tokenSmallestIdf[0], 'software', 'incorrect smallest IDF token')\n",
    "Test.assertTrue(abs(tokenSmallestIdf[1] -  2.472521551724138) < 0.0000000001,\n",
    "                'incorrect smallest IDF value')"
   ]
  },
  {
   "cell_type": "code",
   "execution_count": 35,
   "metadata": {
    "collapsed": false
   },
   "outputs": [
    {
     "name": "stdout",
     "output_type": "stream",
     "text": [
      "[('software', 2.472521551724138), ('mac', 5.616891064871481), ('windows', 6.3647711511789185), ('system', 6.748529411764705), ('features', 7.038343558282208), ('complete', 7.725589225589226), ('easy', 8.283393501805055), ('pc', 8.74095238095238), ('win', 9.033464566929133), ('time', 9.50103519668737), ('professional', 9.620545073375261)]\n"
     ]
    }
   ],
   "source": [
    "smallIDFTokens = idfsSmall.takeOrdered(11, lambda s: s[1])\n",
    "print smallIDFTokens"
   ]
  },
  {
   "cell_type": "code",
   "execution_count": 56,
   "metadata": {
    "collapsed": false
   },
   "outputs": [
    {
     "data": {
      "image/png": "[encoded data removed]",
      "text/plain": [
       "<Figure size 600x400 with 1 Axes>"
      ]
     },
     "metadata": {},
     "output_type": "display_data"
    }
   ],
   "source": [
    "%matplotlib inline\n",
    "import matplotlib.pyplot as plt\n",
    "from IPython.display import display\n",
    "\n",
    "small_idf_values = idfsSmall.map(lambda s: s[1]).collect()\n",
    "\n",
    "plt.hist(small_idf_values, 50, log=True)\n",
    "\n",
    "pass"
   ]
  },
  {
   "cell_type": "code",
   "execution_count": 67,
   "metadata": {
    "collapsed": false
   },
   "outputs": [
    {
     "name": "stdout",
     "output_type": "stream",
     "text": [
      "+------------------+------------------+\n",
      "|             token|             value|\n",
      "+------------------+------------------+\n",
      "|         paperless|            4589.0|\n",
      "|             aided|             917.8|\n",
      "|         promenade|            4589.0|\n",
      "|presentationsimply|            4589.0|\n",
      "|              fawn|            4589.0|\n",
      "|          believed|            4589.0|\n",
      "|            resist|            4589.0|\n",
      "|            joshua|            4589.0|\n",
      "|             catch|          286.8125|\n",
      "|           ableton| 764.8333333333334|\n",
      "|           mansion| 655.5714285714286|\n",
      "|     relationships|305.93333333333334|\n",
      "|          increase| 86.58490566037736|\n",
      "|             paris| 764.8333333333334|\n",
      "|           desiree|            4589.0|\n",
      "|       quarkxpress| 417.1818181818182|\n",
      "|       multiplexor|            2294.5|\n",
      "|           recycle|           1147.25|\n",
      "|        summarizes|            2294.5|\n",
      "|               mlb|1529.6666666666667|\n",
      "+------------------+------------------+\n",
      "only showing top 20 rows\n",
      "\n"
     ]
    }
   ],
   "source": [
    "from pyspark.sql import Row,SQLContext\n",
    "\n",
    "sqlContext = SQLContext(sc)\n",
    "\n",
    "# Create a DataFrame and visualize using display()\n",
    "idfsToCountRow = idfsSmall.map(lambda (x, y): Row(token=x, value=y))\n",
    "idfsToCountDF = sqlContext.createDataFrame(idfsToCountRow)\n",
    "idfsToCountDF.show()"
   ]
  },
  {
   "cell_type": "code",
   "execution_count": 68,
   "metadata": {
    "collapsed": false
   },
   "outputs": [
    {
     "name": "stdout",
     "output_type": "stream",
     "text": [
      "Amazon record \"b000hkgj8k\" has tokens and weights:\n",
      "{'autocad': 152.96666666666664, 'autodesk': 23.901041666666664, 'courseware': 152.96666666666664, 'psg': 95.60416666666666, '2007': 2.908111533586818, 'customizing': 76.48333333333332, 'interface': 3.9835069444444446}\n"
     ]
    }
   ],
   "source": [
    "def tfidf(tokens, idfs):\n",
    "    \"\"\" Compute TF-IDF\n",
    "    Args:\n",
    "        tokens (list of str): input list of tokens from tokenize\n",
    "        idfs (dictionary): record to IDF value\n",
    "    Returns:\n",
    "        dictionary: a dictionary of records to TF-IDF values\n",
    "    \"\"\"\n",
    "#     tfs = <FILL IN>\n",
    "#     tfIdfDict = <FILL IN>\n",
    "    tfs = tf(tokens)\n",
    "    tfIdfDict = { t: tfs[t] * idfs[t] for t in tfs }\n",
    "    return tfIdfDict\n",
    "\n",
    "recb000hkgj8k = amazonRecToToken.filter(lambda x: x[0] == 'b000hkgj8k').collect()[0][1]\n",
    "idfsSmallWeights = idfsSmall.collectAsMap()\n",
    "rec_b000hkgj8k_weights = tfidf(recb000hkgj8k, idfsSmallWeights)\n",
    "\n",
    "print 'Amazon record \"b000hkgj8k\" has tokens and weights:\\n%s' % rec_b000hkgj8k_weights"
   ]
  },
  {
   "cell_type": "code",
   "execution_count": 69,
   "metadata": {
    "collapsed": false
   },
   "outputs": [
    {
     "name": "stdout",
     "output_type": "stream",
     "text": [
      "102 6.16441400297\n"
     ]
    }
   ],
   "source": [
    "import math\n",
    "\n",
    "def dotprod(a, b):\n",
    "    \"\"\" Compute dot product\n",
    "    Args:\n",
    "        a (dictionary): first dictionary of record to value\n",
    "        b (dictionary): second dictionary of record to value\n",
    "    Returns:\n",
    "        dotProd: result of the dot product with the two input dictionaries\n",
    "    \"\"\"\n",
    "    return sum([a[t] * b[t] for t in a if t in b])\n",
    "\n",
    "def norm(a):\n",
    "    \"\"\" Compute square root of the dot product\n",
    "    Args: a (dictionary): a dictionary of record to value\n",
    "    Returns: norm (float): the square root of the dot product value \"\"\"\n",
    "\n",
    "    return math.sqrt(dotprod(a, a))\n",
    "\n",
    "def cossim(a, b):\n",
    "    \"\"\" Compute cosine similarity\n",
    "    Args:\n",
    "        a (dictionary): first dictionary of record to value\n",
    "        b (dictionary): second dictionary of record to value\n",
    "    Returns:\n",
    "        cossim: dot product of two dictionaries divided by the norm of the first dictionary and\n",
    "                then by the norm of the second dictionary\n",
    "    \"\"\"\n",
    "    #return <FILL IN>\n",
    "    return dotprod(a, b) / norm(a) / norm(b)\n",
    "\n",
    "testVec1 = {'foo': 2, 'bar': 3, 'baz': 5 }\n",
    "testVec2 = {'foo': 1, 'bar': 0, 'baz': 20 }\n",
    "dp = dotprod(testVec1, testVec2)\n",
    "nm = norm(testVec1)\n",
    "print dp, nm"
   ]
  },
  {
   "cell_type": "code",
   "execution_count": 73,
   "metadata": {
    "collapsed": false
   },
   "outputs": [
    {
     "name": "stdout",
     "output_type": "stream",
     "text": [
      "0.0864190021024\n"
     ]
    }
   ],
   "source": [
    "def cosineSimilarity(string1, string2, idfsDictionary):\n",
    "    \"\"\" Compute cosine similarity between two strings\n",
    "    Args:\n",
    "        string1 (str): first string\n",
    "        string2 (str): second string\n",
    "        idfsDictionary (dictionary): a dictionary of IDF values\n",
    "    Returns:\n",
    "        cossim: cosine similarity value\n",
    "    \"\"\"\n",
    "#     w1 = tfidf(<FILL IN>)\n",
    "#     w2 = tfidf(<FILL IN>)\n",
    "    w1 = tfidf(tokenize(string1), idfsDictionary)\n",
    "    w2 = tfidf(tokenize(string2), idfsDictionary)    \n",
    "    return cossim(w1, w2)\n",
    "\n",
    "cossimAdobe = cosineSimilarity('Adobe Photoshop',\n",
    "                               'Adobe Illustrator',\n",
    "                               idfsSmallWeights)\n",
    "\n",
    "print cossimAdobe\n"
   ]
  },
  {
   "cell_type": "code",
   "execution_count": 74,
   "metadata": {
    "collapsed": false
   },
   "outputs": [
    {
     "name": "stdout",
     "output_type": "stream",
     "text": [
      "Requested similarity is 1.44022871999e-05.\n"
     ]
    }
   ],
   "source": [
    "crossSmall = (googleSmall.cartesian(amazonSmall).cache())\n",
    "              \n",
    "\n",
    "def computeSimilarity(record):\n",
    "    \"\"\" Compute similarity on a combination record\n",
    "    Args:\n",
    "        record: a pair, (google record, amazon record)\n",
    "    Returns:\n",
    "        pair: a pair, (google URL, amazon ID, cosine similarity value)\n",
    "    \"\"\"\n",
    "\n",
    "    googleRec = record[0]\n",
    "    amazonRec = record[1]\n",
    "    googleURL = googleRec[0]\n",
    "    amazonID = amazonRec[0]\n",
    "    googleValue = googleRec[1]\n",
    "    amazonValue = amazonRec[1]\n",
    "    cs = cosineSimilarity(googleValue, amazonValue, idfsSmallWeights)\n",
    "    return (googleURL, amazonID, cs)  \n",
    "\n",
    "similarities = (crossSmall.map(computeSimilarity).cache())\n",
    "                \n",
    "\n",
    "def similar(amazonID, googleURL):\n",
    "    \"\"\" Return similarity value\n",
    "    Args:\n",
    "        amazonID: amazon ID\n",
    "        googleURL: google URL\n",
    "    Returns:\n",
    "        similar: cosine similarity value\n",
    "    \"\"\"\n",
    "    return (similarities\n",
    "            .filter(lambda record: (record[0] == googleURL and record[1] == amazonID))\n",
    "            .collect()[0][2])\n",
    "\n",
    "similarityAmazonGoogle = similar('b000o24l3q', 'http://www.google.com/base/feeds/snippets/17242822440574356561')\n",
    "print 'Requested similarity is %s.' % similarityAmazonGoogle"
   ]
  },
  {
   "cell_type": "code",
   "execution_count": 76,
   "metadata": {
    "collapsed": false
   },
   "outputs": [
    {
     "name": "stdout",
     "output_type": "stream",
     "text": [
      "Requested similarity is 1.44022871999e-05.\n"
     ]
    }
   ],
   "source": [
    "def computeSimilarityBroadcast(record):\n",
    "    \"\"\" Compute similarity on a combination record, using Broadcast variable\n",
    "    Args:\n",
    "        record: a pair, (google record, amazon record)\n",
    "    Returns:\n",
    "        pair: a pair, (google URL, amazon ID, cosine similarity value)\n",
    "    \"\"\"\n",
    "    googleRec = record[0]\n",
    "    amazonRec = record[1]\n",
    "    googleURL = googleRec[0]\n",
    "    amazonID = amazonRec[0]\n",
    "    googleValue = googleRec[1]\n",
    "    amazonValue = amazonRec[1]\n",
    "    cs = cosineSimilarity(googleValue, amazonValue, idfsSmallWeights)\n",
    "    return (googleURL, amazonID, cs)\n",
    "  \n",
    "\n",
    "idfsSmallBroadcast = sc.broadcast(idfsSmallWeights)\n",
    "similaritiesBroadcast = (crossSmall\n",
    "                         .map(computeSimilarityBroadcast)\n",
    "                         .cache())\n",
    "\n",
    "def similarBroadcast(amazonID, googleURL):\n",
    "    \"\"\" Return similarity value, computed using Broadcast variable\n",
    "    Args:\n",
    "        amazonID: amazon ID\n",
    "        googleURL: google URL\n",
    "    Returns:\n",
    "        similar: cosine similarity value\n",
    "    \"\"\"\n",
    "    return (similaritiesBroadcast\n",
    "            .filter(lambda record: (record[0] == googleURL and record[1] == amazonID))\n",
    "            .collect()[0][2])\n",
    "\n",
    "similarityAmazonGoogleBroadcast = similarBroadcast('b000o24l3q', 'http://www.google.com/base/feeds/snippets/17242822440574356561')\n",
    "print 'Requested similarity is %s.' % similarityAmazonGoogleBroadcast"
   ]
  },
  {
   "cell_type": "code",
   "execution_count": 77,
   "metadata": {
    "collapsed": false
   },
   "outputs": [
    {
     "name": "stdout",
     "output_type": "stream",
     "text": [
      "Read 1301 lines, successfully parsed 1300 lines, failed to parse 0 lines\n"
     ]
    }
   ],
   "source": [
    "GOLDFILE_PATTERN = '^(.+),(.+)'\n",
    "\n",
    "# Parse each line of a data file useing the specified regular expression pattern\n",
    "def parse_goldfile_line(goldfile_line):\n",
    "\n",
    "    match = re.search(GOLDFILE_PATTERN, goldfile_line)\n",
    "    if match is None:\n",
    "        print 'Invalid goldfile line: %s' % goldfile_line\n",
    "        return (goldfile_line, -1)\n",
    "    elif match.group(1) == '\"idAmazon\"':\n",
    "        print 'Header datafile line: %s' % goldfile_line\n",
    "        return (goldfile_line, 0)\n",
    "    else:\n",
    "        key = '%s %s' % (removeQuotes(match.group(1)), removeQuotes(match.group(2)))\n",
    "        return ((key, 'gold'), 1)\n",
    "\n",
    "goldfile = os.path.join(baseDir, inputPath, GOLD_STANDARD_PATH)\n",
    "gsRaw = (sc\n",
    "         .textFile(goldfile)\n",
    "         .map(parse_goldfile_line)\n",
    "         .cache())\n",
    "\n",
    "gsFailed = (gsRaw\n",
    "            .filter(lambda s: s[1] == -1)\n",
    "            .map(lambda s: s[0]))\n",
    "for line in gsFailed.take(10):\n",
    "    print 'Invalid goldfile line: %s' % line\n",
    "\n",
    "goldStandard = (gsRaw\n",
    "                .filter(lambda s: s[1] == 1)\n",
    "                .map(lambda s: s[0])\n",
    "                .cache())\n",
    "\n",
    "print 'Read %d lines, successfully parsed %d lines, failed to parse %d lines' % (gsRaw.count(),\n",
    "                                                                                 goldStandard.count(),\n",
    "                                                                                 gsFailed.count())\n",
    "assert (gsFailed.count() == 0)\n",
    "assert (gsRaw.count() == (goldStandard.count() + 1))"
   ]
  },
  {
   "cell_type": "code",
   "execution_count": 78,
   "metadata": {
    "collapsed": false
   },
   "outputs": [
    {
     "name": "stdout",
     "output_type": "stream",
     "text": [
      "There are 1300 true duplicates.\n",
      "The average similarity of true duplicates is 0.216648049591.\n",
      "And for non duplicates, it is 0.000392067453142.\n"
     ]
    }
   ],
   "source": [
    "sims = similaritiesBroadcast.map(lambda x: (\"%s %s\" % (x[1], x[0]), x[2]))\n",
    "\n",
    "trueDupsRDD = (sims.join(goldStandard).map(lambda a: a[1][0]))\n",
    "\n",
    "trueDupsCount = trueDupsRDD.count()\n",
    "\n",
    "avgSimDups = float(trueDupsRDD.reduce(lambda a, b: a + b)) / float(trueDupsCount)\n",
    "\n",
    "nonDupsRDD = (sims\n",
    "              .leftOuterJoin(goldStandard)\n",
    "              .filter(lambda x: (x[1][1] is None))\n",
    "              .map(lambda a: a[1][0]))\n",
    "avgSimNon = float(nonDupsRDD.reduce(lambda a, b: a + b)) / float(sims.count() - trueDupsCount)\n",
    "\n",
    "print 'There are %s true duplicates.' % trueDupsCount\n",
    "print 'The average similarity of true duplicates is %s.' % avgSimDups\n",
    "print 'And for non duplicates, it is %s.' % avgSimNon"
   ]
  },
  {
   "cell_type": "code",
   "execution_count": 79,
   "metadata": {
    "collapsed": false
   },
   "outputs": [
    {
     "name": "stdout",
     "output_type": "stream",
     "text": [
      "Amazon full dataset is 1363 products, Google full dataset is 3226 products\n"
     ]
    }
   ],
   "source": [
    "amazonFullRecToToken = amazon.map(lambda s: (s[0], tokenize(s[1])))\n",
    "googleFullRecToToken = google.map(lambda s: (s[0], tokenize(s[1])))\n",
    "print 'Amazon full dataset is %s products, Google full dataset is %s products' % (amazonFullRecToToken.count(),\n",
    "                                                                                    googleFullRecToToken.count())"
   ]
  },
  {
   "cell_type": "code",
   "execution_count": 80,
   "metadata": {
    "collapsed": false
   },
   "outputs": [
    {
     "name": "stdout",
     "output_type": "stream",
     "text": [
      "There are 16790 unique tokens in the full datasets.\n",
      "There are 1363 Amazon weights and 3226 Google weights.\n"
     ]
    }
   ],
   "source": [
    "fullCorpusRDD = amazonFullRecToToken.union(googleFullRecToToken)\n",
    "\n",
    "idfsFull = idfs(fullCorpusRDD)\n",
    "idfsFullCount = idfsFull.count()\n",
    "print 'There are %s unique tokens in the full datasets.' % idfsFullCount\n",
    "\n",
    "# Recompute IDFs for full dataset\n",
    "# idfsFullWeights = <FILL IN>\n",
    "# idfsFullBroadcast = <FILL IN>\n",
    "idfsFullWeights = idfsFull.collectAsMap()\n",
    "idfsFullBroadcast = sc.broadcast(idfsFullWeights)\n",
    "# Pre-compute TF-IDF weights.  Build mappings from record ID weight vector.\n",
    "# amazonWeightsRDD = <FILL IN>\n",
    "# googleWeightsRDD = <FILL IN>\n",
    "amazonWeightsRDD = amazonFullRecToToken.map(lambda x: (x[0], tfidf(x[1], idfsFullBroadcast.value)))\n",
    "googleWeightsRDD = googleFullRecToToken.map(lambda x: (x[0], tfidf(x[1], idfsFullBroadcast.value)))\n",
    "\n",
    "print 'There are %s Amazon weights and %s Google weights.' % (amazonWeightsRDD.count(),\n",
    "                                                              googleWeightsRDD.count())"
   ]
  },
  {
   "cell_type": "code",
   "execution_count": 81,
   "metadata": {
    "collapsed": true
   },
   "outputs": [],
   "source": [
    "amazonNorms = amazonWeightsRDD.map(lambda x: (x[0], norm(x[1]))).collectAsMap()\n",
    "amazonNormsBroadcast = sc.broadcast(amazonNorms)\n",
    "googleNorms = googleWeightsRDD.map(lambda x: (x[0], norm(x[1]))).collectAsMap()\n",
    "googleNormsBroadcast = sc.broadcast(googleNorms)"
   ]
  },
  {
   "cell_type": "code",
   "execution_count": 84,
   "metadata": {
    "collapsed": false
   },
   "outputs": [
    {
     "name": "stdout",
     "output_type": "stream",
     "text": [
      "There are 98644 Amazon inverted pairs and 68527 Google inverted pairs.\n"
     ]
    }
   ],
   "source": [
    "def invert(record):\n",
    "    \"\"\" Invert (ID, tokens) to a list of (token, ID)\n",
    "    Args:\n",
    "        record: a pair, (ID, token vector)\n",
    "    Returns:\n",
    "        pairs: a list of pairs of token to ID\n",
    "    \"\"\"\n",
    "#     <FILL IN>\n",
    "#     return (pairs)\n",
    "    value = record[0]\n",
    "    keys = record[1].keys()\n",
    "    pairs = []\n",
    "    for key in keys:\n",
    "        pairs.append((key, value))\n",
    "    return (pairs)\n",
    "  \n",
    "# amazonInvPairsRDD = (amazonWeightsRDD\n",
    "#                     .<FILL IN>\n",
    "#                     .cache())\n",
    "\n",
    "# googleInvPairsRDD = (googleWeightsRDD\n",
    "#                     .<FILL IN>\n",
    "#                     .cache())\n",
    "\n",
    "#why flatmap?\n",
    "amazonInvPairsRDD = (amazonWeightsRDD.flatMap(invert).cache())\n",
    "googleInvPairsRDD = (googleWeightsRDD.flatMap(invert).cache())\n",
    "\n",
    "print 'There are %s Amazon inverted pairs and %s Google inverted pairs.' % (amazonInvPairsRDD.count(),\n",
    "                                                                            googleInvPairsRDD.count())"
   ]
  },
  {
   "cell_type": "code",
   "execution_count": 89,
   "metadata": {
    "collapsed": false
   },
   "outputs": [
    {
     "name": "stdout",
     "output_type": "stream",
     "text": [
      "Found 2161805 common tokens\n"
     ]
    }
   ],
   "source": [
    "def swap(record):\n",
    "    \"\"\" Swap (token, (ID, URL)) to ((ID, URL), token)\n",
    "    Args:\n",
    "        record: a pair, (token, (ID, URL))\n",
    "    Returns:\n",
    "        pair: ((ID, URL), token)\n",
    "    \"\"\"\n",
    "    token = record[0]\n",
    "    keys = (record[1][0], record[1][1])\n",
    "    return (keys, token)\n",
    "  \n",
    "\n",
    "commonTokens = (amazonInvPairsRDD.join(googleInvPairsRDD)\n",
    "                                 .map(swap)\n",
    "                                 .groupByKey()\n",
    "                                 .map(lambda rec: (rec[0], list(rec[1])))\n",
    "                                 .cache())\n",
    "\n",
    "print 'Found %d common tokens' % commonTokens.count()\n"
   ]
  },
  {
   "cell_type": "code",
   "execution_count": 91,
   "metadata": {
    "collapsed": false
   },
   "outputs": [
    {
     "name": "stdout",
     "output_type": "stream",
     "text": [
      "2161805\n"
     ]
    }
   ],
   "source": [
    "amazonWeightsBroadcast = sc.broadcast(amazonWeightsRDD.collectAsMap())\n",
    "googleWeightsBroadcast = sc.broadcast(googleWeightsRDD.collectAsMap())\n",
    "\n",
    "\n",
    "def fastCosineSimilarity(record):\n",
    "    \"\"\" Compute Cosine Similarity using Broadcast variables\n",
    "    Args:\n",
    "        record: ((ID, URL), token)\n",
    "    Returns:\n",
    "        pair: ((ID, URL), cosine similarity value)\n",
    "    \"\"\"\n",
    "\n",
    "    amazonRec = record[0][0]\n",
    "    googleRec = record[0][1]\n",
    "    tokens = record[1]\n",
    "    s = sum([amazonWeightsBroadcast.value[amazonRec][t] * googleWeightsBroadcast.value[googleRec][t]\n",
    "             for t in tokens])\n",
    "    value = s / googleNormsBroadcast.value[googleRec] / amazonNormsBroadcast.value[amazonRec]\n",
    "    key = (amazonRec, googleRec)\n",
    "    return (key, value)\n",
    "  \n",
    "# similaritiesFullRDD = (commonTokens\n",
    "#                        .<FILL IN>\n",
    "#                        .cache())\n",
    "similaritiesFullRDD = (commonTokens\n",
    "                       .map(fastCosineSimilarity)\n",
    "                       .cache())\n",
    "\n",
    "print similaritiesFullRDD.count()"
   ]
  },
  {
   "cell_type": "code",
   "execution_count": 94,
   "metadata": {
    "collapsed": false
   },
   "outputs": [
    {
     "name": "stdout",
     "output_type": "stream",
     "text": [
      "There are 1300 true duplicates.\n"
     ]
    }
   ],
   "source": [
    "# Create an RDD of ((Amazon ID, Google URL), similarity score)\n",
    "simsFullRDD = similaritiesFullRDD.map(lambda x: (\"%s %s\" % (x[0][0], x[0][1]), x[1]))\n",
    "assert (simsFullRDD.count() == 2161805)\n",
    "\n",
    "# Create an RDD of just the similarity scores\n",
    "simsFullValuesRDD = (simsFullRDD\n",
    "                     .map(lambda x: x[1])\n",
    "                     .cache())\n",
    "assert (simsFullValuesRDD.count() == 2161805)\n",
    "\n",
    "# Look up all similarity scores for true duplicates\n",
    "\n",
    "# This helper function will return the similarity score for records that are in the gold standard and the simsFullRDD (True positives), and will return 0 for records that are in the gold standard but not in simsFullRDD (False Negatives).\n",
    "def gs_value(record):\n",
    "    if (record[1][1] is None):\n",
    "        return 0\n",
    "    else:\n",
    "        return record[1][1]\n",
    "\n",
    "# Join the gold standard and simsFullRDD, and then extract the similarities scores using the helper function\n",
    "trueDupSimsRDD = (goldStandard\n",
    "                  .leftOuterJoin(simsFullRDD)\n",
    "                  .map(gs_value)\n",
    "                  .cache())\n",
    "print 'There are %s true duplicates.' % trueDupSimsRDD.count()\n",
    "assert(trueDupSimsRDD.count() == 1300)"
   ]
  },
  {
   "cell_type": "code",
   "execution_count": 96,
   "metadata": {
    "collapsed": true
   },
   "outputs": [],
   "source": [
    "from pyspark.accumulators import AccumulatorParam\n",
    "class VectorAccumulatorParam(AccumulatorParam):\n",
    "    # Initialize the VectorAccumulator to 0\n",
    "    def zero(self, value):\n",
    "        return [0] * len(value)\n",
    "\n",
    "    # Add two VectorAccumulator variables\n",
    "    def addInPlace(self, val1, val2):\n",
    "        for i in xrange(len(val1)):\n",
    "            val1[i] += val2[i]\n",
    "        return val1\n",
    "\n",
    "# Return a list with entry x set to value and all other entries set to 0\n",
    "def set_bit(x, value, length):\n",
    "    bits = []\n",
    "    for y in xrange(length):\n",
    "        if (x == y):\n",
    "          bits.append(value)\n",
    "        else:\n",
    "          bits.append(0)\n",
    "    return bits\n",
    "\n",
    "# Pre-bin counts of false positives for different threshold ranges\n",
    "BINS = 101\n",
    "nthresholds = 100\n",
    "def bin(similarity):\n",
    "    return int(similarity * nthresholds)\n",
    "\n",
    "# fpCounts[i] = number of entries (possible false positives) where bin(similarity) == i\n",
    "zeros = [0] * BINS\n",
    "fpCounts = sc.accumulator(zeros, VectorAccumulatorParam())\n",
    "\n",
    "def add_element(score):\n",
    "    global fpCounts\n",
    "    b = bin(score)\n",
    "    fpCounts += set_bit(b, 1, BINS)\n",
    "\n",
    "simsFullValuesRDD.foreach(add_element)\n",
    "\n",
    "# Remove true positives from FP counts\n",
    "def sub_element(score):\n",
    "    global fpCounts\n",
    "    b = bin(score)\n",
    "    fpCounts += set_bit(b, -1, BINS)\n",
    "\n",
    "trueDupSimsRDD.foreach(sub_element)\n",
    "\n",
    "def falsepos(threshold):\n",
    "    fpList = fpCounts.value\n",
    "    return sum([fpList[b] for b in range(0, BINS) if float(b) / nthresholds >= threshold])\n",
    "\n",
    "def falseneg(threshold):\n",
    "    return trueDupSimsRDD.filter(lambda x: x < threshold).count()\n",
    "\n",
    "def truepos(threshold):\n",
    "    return trueDupSimsRDD.count() - falsenegDict[threshold]\n"
   ]
  },
  {
   "cell_type": "code",
   "execution_count": 97,
   "metadata": {
    "collapsed": true
   },
   "outputs": [],
   "source": [
    "def precision(threshold):\n",
    "    tp = trueposDict[threshold]\n",
    "#     return <FILL IN>\n",
    "    return float(tp) / (tp + falseposDict[threshold])\n",
    "\n",
    "def recall(threshold):\n",
    "    tp = trueposDict[threshold]\n",
    "#     return <FILL IN>\n",
    "    return float(tp) / (tp + falsenegDict[threshold])\n",
    "\n",
    "\n",
    "def fmeasure(threshold):\n",
    "    r = recall(threshold)\n",
    "    p = precision(threshold)\n",
    "#     return <FILL IN>\n",
    "    return 2 * r * p / (r + p)\n",
    "\n"
   ]
  },
  {
   "cell_type": "code",
   "execution_count": 100,
   "metadata": {
    "collapsed": false
   },
   "outputs": [
    {
     "name": "stdout",
     "output_type": "stream",
     "text": [
      "0.000601349335393 0.0012019758634\n"
     ]
    },
    {
     "data": {
      "image/png": "[encoded data removed]",
      "text/plain": [
       "<Figure size 600x400 with 1 Axes>"
      ]
     },
     "metadata": {},
     "output_type": "display_data"
    }
   ],
   "source": [
    "thresholds = [float(n) / nthresholds for n in range(0, nthresholds)]\n",
    "falseposDict = dict([(t, falsepos(t)) for t in thresholds])\n",
    "falsenegDict = dict([(t, falseneg(t)) for t in thresholds])\n",
    "trueposDict = dict([(t, truepos(t)) for t in thresholds])\n",
    "\n",
    "precisions = [precision(t) for t in thresholds]\n",
    "recalls = [recall(t) for t in thresholds]\n",
    "fmeasures = [fmeasure(t) for t in thresholds]\n",
    "\n",
    "print precisions[0], fmeasures[0]\n",
    "#assert (abs(precisions[0] - 0.000532546802671) < 0.0000001)\n",
    "#assert (abs(fmeasures[0] - 0.00106452669505) < 0.0000001)\n",
    "\n",
    "\n",
    "plt.plot(thresholds, precisions)\n",
    "plt.plot(thresholds, recalls)\n",
    "plt.plot(thresholds, fmeasures)\n",
    "plt.legend(['Precision', 'Recall', 'F-measure'])\n",
    "pass\n",
    "\n"
   ]
  },
  {
   "cell_type": "code",
   "execution_count": 101,
   "metadata": {
    "collapsed": false
   },
   "outputs": [
    {
     "name": "stdout",
     "output_type": "stream",
     "text": [
      "+--------------------+--------------------+-------------------+---------+\n",
      "|            fmeasure|           precision|             recall|threshold|\n",
      "+--------------------+--------------------+-------------------+---------+\n",
      "|0.001201975863400...|6.013493353933403E-4|                1.0|      0.0|\n",
      "| 0.08115285203413236|0.042534238948892106| 0.8815384615384615|     0.01|\n",
      "| 0.13242209542918051| 0.07208683186565636| 0.8123076923076923|     0.02|\n",
      "|  0.1751452209118113| 0.09888690121248261| 0.7653846153846153|     0.03|\n",
      "|  0.2075745726734443|  0.1214220363351196| 0.7146153846153847|     0.04|\n",
      "| 0.23433315479378686| 0.14186121919584954| 0.6730769230769231|     0.05|\n",
      "| 0.26012726990532364| 0.16293991833560179| 0.6446153846153846|     0.06|\n",
      "|  0.2760070052539405| 0.17868480725623584| 0.6061538461538462|     0.07|\n",
      "|  0.2924343394747158| 0.19621251972645976| 0.5738461538461539|     0.08|\n",
      "|  0.3099695254680017|  0.2161505768063145| 0.5476923076923077|     0.09|\n",
      "| 0.32445178024050936| 0.23393403604216254| 0.5292307692307693|      0.1|\n",
      "|  0.3339236023273463| 0.24877497173011684| 0.5076923076923077|     0.11|\n",
      "| 0.34112275047005103|  0.2620718118035493|0.48846153846153845|     0.12|\n",
      "|  0.3495865412033077|  0.2777526053466244| 0.4715384615384615|     0.13|\n",
      "| 0.35767959122332427|  0.2935372471632955| 0.4576923076923077|     0.14|\n",
      "| 0.36017755231452125|  0.3063646170442287| 0.4369230769230769|     0.15|\n",
      "|  0.3618984838497034|  0.3166089965397924|0.42230769230769233|     0.16|\n",
      "| 0.36877982276755283| 0.33108935128518974|0.41615384615384615|     0.17|\n",
      "|  0.3677351179992955|  0.3391812865497076| 0.4015384615384615|     0.18|\n",
      "| 0.36910804931109503| 0.34910836762688613|0.39153846153846156|     0.19|\n",
      "+--------------------+--------------------+-------------------+---------+\n",
      "only showing top 20 rows\n",
      "\n"
     ]
    }
   ],
   "source": [
    "graph = [(t, precision(t), recall(t),fmeasure(t)) for t in thresholds]\n",
    "graphRDD = sc.parallelize(graph)\n",
    "\n",
    "graphRow = graphRDD.map(lambda (t, x, y, z): Row(threshold=t, precision=x, recall=y, fmeasure=z))\n",
    "graphDF = sqlContext.createDataFrame(graphRow)\n",
    "graphDF.show()"
   ]
  }
 ],
 "metadata": {
  "kernelspec": {
   "display_name": "Python 2",
   "language": "python",
   "name": "python2"
  },
  "language_info": {
   "codemirror_mode": {
    "name": "ipython",
    "version": 2
   },
   "file_extension": ".py",
   "mimetype": "text/x-python",
   "name": "python",
   "nbconvert_exporter": "python",
   "pygments_lexer": "ipython2",
   "version": "2.7.6"
  }
 },
 "nbformat": 4,
 "nbformat_minor": 0
}
